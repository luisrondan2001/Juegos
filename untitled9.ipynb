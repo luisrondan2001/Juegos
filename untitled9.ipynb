{
  "nbformat": 4,
  "nbformat_minor": 0,
  "metadata": {
    "colab": {
      "provenance": [],
      "authorship_tag": "ABX9TyMJzPkqWFosapndtwYMgVq6",
      "include_colab_link": true
    },
    "kernelspec": {
      "name": "python3",
      "display_name": "Python 3"
    },
    "language_info": {
      "name": "python"
    }
  },
  "cells": [
    {
      "cell_type": "markdown",
      "metadata": {
        "id": "view-in-github",
        "colab_type": "text"
      },
      "source": [
        "<a href=\"https://colab.research.google.com/github/luisrondan2001/Juegos/blob/main/untitled9.ipynb\" target=\"_parent\"><img src=\"https://colab.research.google.com/assets/colab-badge.svg\" alt=\"Open In Colab\"/></a>"
      ]
    },
    {
      "cell_type": "code",
      "execution_count": null,
      "metadata": {
        "colab": {
          "base_uri": "https://localhost:8080/"
        },
        "id": "YA3H2lZ5xECw",
        "outputId": "a8e69dac-92fb-4283-e6d0-b32c72604122"
      },
      "outputs": [
        {
          "output_type": "stream",
          "name": "stdout",
          "text": [
            "piedra, papel o tijera: piedra\n",
            "esa opción no es valida\n",
            "user option =>  piedra\n",
            "computeroption =>  papel\n",
            "papel gana a piedra\n",
            "compúter ganó!\n"
          ]
        }
      ],
      "source": [
        "import random\n",
        "\n",
        "options = (\"piddra\", \"papel\", \"tijera\")\n",
        "user_option = input(\"piedra, papel o tijera: \")\n",
        "user_option = user_option.lower()\n",
        "\n",
        "if not user_option in options:\n",
        "    print(\"esa opción no es valida\")\n",
        "\n",
        "computer_option = random.choice(options)\n",
        "\n",
        "print(\"user option => \", user_option)\n",
        "print(\"computeroption => \", computer_option)\n",
        "\n",
        "\n",
        "if user_option == computer_option:\n",
        "    print(\"Empate!\")\n",
        "elif user_option == \"piedra\":\n",
        "    if computer_option == \"tijera\":\n",
        "        print(\"piedra gana a tijera!\")\n",
        "        print(\"user ganó!\")\n",
        "    else:\n",
        "        print(\"papel gana a piedra\")\n",
        "        print(\"compúter ganó!\")\n",
        "elif user_option == \"papel\":\n",
        "    if computer_option ==\"piedra\":\n",
        "        print(\"papel gana piedra\")\n",
        "        print(\"user ganó\")\n",
        "    else:\n",
        "        print(\"tijeras gana a papel\")\n",
        "        print(\"computer ganó!\")\n",
        "elif user_option ==\"tijera\":\n",
        "    if computer_option == \"papel\":\n",
        "        print(\"tijera gana a papel\")\n",
        "        print(\"user ganó!\")\n",
        "    else:\n",
        "        print(\"piedra gana a tijera\")\n",
        "        print(\"computador ganó!\")"
      ]
    }
  ]
}