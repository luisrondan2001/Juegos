{
  "nbformat": 4,
  "nbformat_minor": 0,
  "metadata": {
    "colab": {
      "name": "Untitled2.ipynb",
      "provenance": [],
      "authorship_tag": "ABX9TyOaa6cl3mPpqYVjizDhH2a6",
      "include_colab_link": true
    },
    "kernelspec": {
      "name": "python3",
      "display_name": "Python 3"
    },
    "language_info": {
      "name": "python"
    }
  },
  "cells": [
    {
      "cell_type": "markdown",
      "metadata": {
        "id": "view-in-github",
        "colab_type": "text"
      },
      "source": [
        "<a href=\"https://colab.research.google.com/github/luisrondan2001/Juegos/blob/main/eliminar.ipynb\" target=\"_parent\"><img src=\"https://colab.research.google.com/assets/colab-badge.svg\" alt=\"Open In Colab\"/></a>"
      ]
    },
    {
      "cell_type": "markdown",
      "source": [
        ""
      ],
      "metadata": {
        "id": "nZVN33BUnDcP"
      }
    },
    {
      "cell_type": "markdown",
      "source": [
        "#google colab\n",
        "##este es un comentario pequeño \n",
        "###ete es otro \n",
        "####`juan` tiene dos manzanas, y pedro tiene 2 peras. \n",
        "\n",
        "---\n",
        "$\\LaTeX$\n",
        "$\\sum_{i\\in D}$\n",
        "\n",
        "\n",
        "$E = mc^2$.\n",
        "$E = mc^2$\n",
        "\\sum_{i\\in D}\n",
        "\n",
        "\n",
        "\n",
        "\n",
        "\n"
      ],
      "metadata": {
        "id": "MbTtroXtnGVZ"
      }
    },
    {
      "cell_type": "code",
      "source": [
        ""
      ],
      "metadata": {
        "id": "jx-eSRqknUx8"
      },
      "execution_count": null,
      "outputs": []
    }
  ]
}